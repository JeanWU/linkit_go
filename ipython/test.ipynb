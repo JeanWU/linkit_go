{
 "cells": [
  {
   "cell_type": "code",
   "execution_count": 20,
   "metadata": {
    "collapsed": false
   },
   "outputs": [
    {
     "name": "stdout",
     "output_type": "stream",
     "text": [
      "select count(case when age 10 and age < 20 then 1 else null end)\n",
      "0\n",
      "2\n",
      "select count(case when age 20 and age < 30 then 1 else null end)\n",
      "1\n",
      "1\n",
      "select count(case when age 30 and age < 40 then 1 else null end)\n",
      "2\n",
      "2\n",
      "select count(case when age 40 and age < 50 then 1 else null end)\n",
      "3\n",
      "3\n",
      "select count(case when age 50 and age < 60 then 1 else null end)\n",
      "4\n",
      "4\n"
     ]
    }
   ],
   "source": [
    "strlist=['10','20','30','40','50','60']\n",
    "test1=['0','1','2','3','4','5']\n",
    "test2=['2','1','2','3','4','5']\n",
    "for i in range (0,5,1):\n",
    "    sql_str2 = \"select count(case when age %s and age < %s then 1 else null end)\" %(strlist[i],strlist[i+1])\n",
    "    print(sql_str2)\n",
    "    print(test1[i])\n",
    "    print(test2[i])"
   ]
  },
  {
   "cell_type": "code",
   "execution_count": 17,
   "metadata": {
    "collapsed": false
   },
   "outputs": [
    {
     "name": "stdout",
     "output_type": "stream",
     "text": [
      "0\n",
      "1\n",
      "2\n",
      "3\n",
      "4\n",
      "5\n"
     ]
    }
   ],
   "source": [
    "for i in range(0,6,1):\n",
    "    print(i)"
   ]
  },
  {
   "cell_type": "code",
   "execution_count": 27,
   "metadata": {
    "collapsed": false
   },
   "outputs": [
    {
     "name": "stdout",
     "output_type": "stream",
     "text": [
      "try 57\n"
     ]
    }
   ],
   "source": []
  },
  {
   "cell_type": "code",
   "execution_count": 28,
   "metadata": {
    "collapsed": false
   },
   "outputs": [
    {
     "name": "stdout",
     "output_type": "stream",
     "text": [
      "try 76\n"
     ]
    }
   ],
   "source": [
    "male=[3, 2, 1, 3, 10]\n",
    "\n",
    "for i in range(0,5,1):\n",
    "    male_total+=male[i]\n",
    "\n",
    "strtry=\"try %s\" %(str(male_total))\n",
    "\n",
    "print(strtry)"
   ]
  },
  {
   "cell_type": "code",
   "execution_count": null,
   "metadata": {
    "collapsed": true
   },
   "outputs": [],
   "source": []
  }
 ],
 "metadata": {
  "kernelspec": {
   "display_name": "Python 3",
   "language": "python",
   "name": "python3"
  },
  "language_info": {
   "codemirror_mode": {
    "name": "ipython",
    "version": 3
   },
   "file_extension": ".py",
   "mimetype": "text/x-python",
   "name": "python",
   "nbconvert_exporter": "python",
   "pygments_lexer": "ipython3",
   "version": "3.4.4"
  }
 },
 "nbformat": 4,
 "nbformat_minor": 0
}
